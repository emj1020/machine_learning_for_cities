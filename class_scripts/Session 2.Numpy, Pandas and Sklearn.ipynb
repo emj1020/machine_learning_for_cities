{
 "cells": [
  {
   "cell_type": "code",
   "execution_count": 1,
   "metadata": {},
   "outputs": [],
   "source": [
    "import numpy as np\n",
    "import pandas as pd"
   ]
  },
  {
   "cell_type": "markdown",
   "metadata": {},
   "source": [
    "### Numpy\n",
    "\n",
    "Quickstart tutorial: https://numpy.org/doc/stable/user/quickstart.html"
   ]
  },
  {
   "cell_type": "markdown",
   "metadata": {},
   "source": [
    "NumPy’s main object is the homogeneous multidimensional array. It is a table of elements (usually numbers), all of the same type, indexed by a tuple of positive integers. In NumPy dimensions are called axes. The number of axes is rank."
   ]
  },
  {
   "cell_type": "code",
   "execution_count": 2,
   "metadata": {},
   "outputs": [
    {
     "name": "stdout",
     "output_type": "stream",
     "text": [
      "[[1.  2.5 3. ]\n",
      " [4.  5.  6. ]]\n",
      "2\n",
      "(2, 3)\n",
      "\n",
      "[[1.  4. ]\n",
      " [2.5 5. ]\n",
      " [3.  6. ]]\n",
      "2\n",
      "(3, 2)\n"
     ]
    }
   ],
   "source": [
    "# create a 2 (row) x 3 (column) array from a list of lists. Type can be specified or inferred.\n",
    "a=np.asarray([[1,2.5,3],[4,5,6]],dtype='float32')\n",
    "print(a)\n",
    "print(a.ndim)\n",
    "print(a.shape)\n",
    "\n",
    "print()\n",
    "\n",
    "# a's transpose is a 3 x 2 array. The value of a is not changed by this.\n",
    "aT = a.transpose()\n",
    "print(aT)\n",
    "print(aT.ndim)\n",
    "print(aT.shape)"
   ]
  },
  {
   "cell_type": "code",
   "execution_count": 3,
   "metadata": {},
   "outputs": [
    {
     "data": {
      "text/plain": [
       "dtype('float32')"
      ]
     },
     "execution_count": 3,
     "metadata": {},
     "output_type": "execute_result"
    }
   ],
   "source": [
    "a.dtype"
   ]
  },
  {
   "cell_type": "code",
   "execution_count": 4,
   "metadata": {},
   "outputs": [
    {
     "data": {
      "text/plain": [
       "dtype('int64')"
      ]
     },
     "execution_count": 4,
     "metadata": {},
     "output_type": "execute_result"
    }
   ],
   "source": [
    "# Example of inferred type.  Here it assumes that these are integers... \n",
    "np.asarray([1,2]).dtype"
   ]
  },
  {
   "cell_type": "code",
   "execution_count": 5,
   "metadata": {},
   "outputs": [
    {
     "data": {
      "text/plain": [
       "array([1.+0.j, 2.+0.j])"
      ]
     },
     "execution_count": 5,
     "metadata": {},
     "output_type": "execute_result"
    }
   ],
   "source": [
    "# ... unless you specify otherwise\n",
    "np.asarray([1,2],dtype=\"complex\")"
   ]
  },
  {
   "cell_type": "code",
   "execution_count": 6,
   "metadata": {},
   "outputs": [
    {
     "name": "stdout",
     "output_type": "stream",
     "text": [
      "2.718281828459045\n",
      "1.0\n"
     ]
    }
   ],
   "source": [
    "# exponential and logarithm (base e)\n",
    "print(np.exp(1))\n",
    "print(np.log(np.exp(1)))"
   ]
  },
  {
   "cell_type": "code",
   "execution_count": 7,
   "metadata": {},
   "outputs": [
    {
     "data": {
      "text/plain": [
       "3.141592653589793"
      ]
     },
     "execution_count": 7,
     "metadata": {},
     "output_type": "execute_result"
    }
   ],
   "source": [
    "# built-in constants\n",
    "np.pi"
   ]
  },
  {
   "cell_type": "code",
   "execution_count": 8,
   "metadata": {},
   "outputs": [
    {
     "data": {
      "text/plain": [
       "array([[0.51515834, 0.37431376],\n",
       "       [0.20383933, 0.17494394],\n",
       "       [0.90575821, 0.20530133],\n",
       "       [0.61459324, 0.12957459]])"
      ]
     },
     "execution_count": 8,
     "metadata": {},
     "output_type": "execute_result"
    }
   ],
   "source": [
    "# generate an m x n array of random numbers, uniform on [0,1]\n",
    "np.random.rand(4,2)"
   ]
  },
  {
   "cell_type": "code",
   "execution_count": 9,
   "metadata": {},
   "outputs": [
    {
     "data": {
      "text/plain": [
       "1.0"
      ]
     },
     "execution_count": 9,
     "metadata": {},
     "output_type": "execute_result"
    }
   ],
   "source": [
    "# standard trigonmetric operations\n",
    "np.sin(np.pi/2)"
   ]
  },
  {
   "cell_type": "code",
   "execution_count": 10,
   "metadata": {},
   "outputs": [
    {
     "data": {
      "text/plain": [
       "array([0.  , 0.25, 0.5 , 0.75, 1.  , 1.25, 1.5 , 1.75, 2.  ])"
      ]
     },
     "execution_count": 10,
     "metadata": {},
     "output_type": "execute_result"
    }
   ],
   "source": [
    "# generate a uniformly spaced 1-D array (start,end,number of elements)\n",
    "# notice that both endpoints are included by default\n",
    "np.linspace(0,2,9)"
   ]
  },
  {
   "cell_type": "code",
   "execution_count": 11,
   "metadata": {},
   "outputs": [
    {
     "data": {
      "text/plain": [
       "array([  1.        ,   1.77827941,   3.16227766,   5.62341325,\n",
       "        10.        ,  17.7827941 ,  31.6227766 ,  56.23413252,\n",
       "       100.        ])"
      ]
     },
     "execution_count": 11,
     "metadata": {},
     "output_type": "execute_result"
    }
   ],
   "source": [
    "# same idea, but take base to that power\n",
    "# again, both endpoints are included by default\n",
    "np.logspace(0,2,9,base=10)"
   ]
  },
  {
   "cell_type": "code",
   "execution_count": 12,
   "metadata": {},
   "outputs": [
    {
     "data": {
      "text/plain": [
       "array([[1., 1., 1.],\n",
       "       [1., 1., 1.]])"
      ]
     },
     "execution_count": 12,
     "metadata": {},
     "output_type": "execute_result"
    }
   ],
   "source": [
    "# array of ones (input is a tuple of dimensions)\n",
    "np.ones((2,3))"
   ]
  },
  {
   "cell_type": "code",
   "execution_count": 13,
   "metadata": {},
   "outputs": [
    {
     "name": "stdout",
     "output_type": "stream",
     "text": [
      "[[2. 2. 2.]\n",
      " [2. 2. 2.]]\n",
      "\n",
      "[[1. 1. 1.]\n",
      " [1. 1. 1.]]\n",
      "\n",
      "[[2. 2. 2.]\n",
      " [2. 2. 2.]]\n",
      "\n",
      "[[5. 5. 5.]\n",
      " [5. 5. 5.]]\n"
     ]
    }
   ],
   "source": [
    "# element-wise operations\n",
    "\n",
    "# add or multiply two matrices elementwise; returns ValueError if sizes do not match\n",
    "print(np.ones((2,3))+np.ones((2,3)))\n",
    "print()\n",
    "print(np.ones((2,3))*np.ones((2,3)))\n",
    "print()\n",
    "\n",
    "# casts the constant into an appropriately sized matrix\n",
    "print(np.ones((2,3))+1)\n",
    "print()\n",
    "\n",
    "print(np.ones((2,3))*5)"
   ]
  },
  {
   "cell_type": "code",
   "execution_count": 14,
   "metadata": {},
   "outputs": [
    {
     "data": {
      "text/plain": [
       "array([[ True, False, False,  True, False],\n",
       "       [False, False, False, False, False],\n",
       "       [False,  True, False, False, False],\n",
       "       [ True, False, False, False, False],\n",
       "       [False,  True, False, False, False]])"
      ]
     },
     "execution_count": 14,
     "metadata": {},
     "output_type": "execute_result"
    }
   ],
   "source": [
    "# comparison operation is also performed element-wise; can compare to constant\n",
    "np.random.rand(5,5) > 0.8"
   ]
  },
  {
   "cell_type": "code",
   "execution_count": 15,
   "metadata": {},
   "outputs": [
    {
     "data": {
      "text/plain": [
       "array([[0.73665212, 0.006908  ],\n",
       "       [0.57131675, 0.80655933]])"
      ]
     },
     "execution_count": 15,
     "metadata": {},
     "output_type": "execute_result"
    }
   ],
   "source": [
    "# again, sin is performed element-wise\n",
    "np.sin(np.random.rand(2,2))"
   ]
  },
  {
   "cell_type": "code",
   "execution_count": 16,
   "metadata": {},
   "outputs": [
    {
     "name": "stdout",
     "output_type": "stream",
     "text": [
      "[0.1 0.2]\n",
      "\n",
      "[[10.  5.]\n",
      " [10.  5.]]\n"
     ]
    }
   ],
   "source": [
    "# So is division.  Vector is cast into matrix with appropriate number of rows  \n",
    "print(np.asarray([0.1,0.2]))\n",
    "print()\n",
    "print(np.ones((2,2))/np.asarray([0.1,0.2]))"
   ]
  },
  {
   "cell_type": "code",
   "execution_count": 17,
   "metadata": {},
   "outputs": [
    {
     "name": "stdout",
     "output_type": "stream",
     "text": [
      "[[0.1]\n",
      " [0.2]]\n",
      "\n",
      "[[10. 10.]\n",
      " [ 5.  5.]]\n"
     ]
    }
   ],
   "source": [
    "# The new shape should be compatible with the original shape. \n",
    "# If an integer, then the result will be a 1-D array of that length. \n",
    "# One shape dimension can be -1. In this case, the value is inferred from the length of the array and remaining dimension\n",
    "print(np.asarray([0.1,0.2]).reshape(-1,1))\n",
    "print()\n",
    "print(np.ones((2,2))/np.asarray([0.1,0.2]).reshape(-1,1))"
   ]
  },
  {
   "cell_type": "code",
   "execution_count": 18,
   "metadata": {},
   "outputs": [
    {
     "name": "stdout",
     "output_type": "stream",
     "text": [
      "[5. 5.]\n",
      "[10.  5.]\n"
     ]
    }
   ],
   "source": [
    "q = np.ones((2,2))/np.asarray([0.1,0.2]).reshape(-1,1)\n",
    "\n",
    "# min of each column\n",
    "print(q.min(axis=0))\n",
    "\n",
    "# min of each row\n",
    "print(q.min(axis=1))\n"
   ]
  },
  {
   "cell_type": "code",
   "execution_count": 19,
   "metadata": {},
   "outputs": [
    {
     "data": {
      "text/plain": [
       "array([[2., 2., 2.],\n",
       "       [2., 2., 2.],\n",
       "       [2., 2., 2.]])"
      ]
     },
     "execution_count": 19,
     "metadata": {},
     "output_type": "execute_result"
    }
   ],
   "source": [
    "tmp=np.ones((3,3))*2\n",
    "tmp"
   ]
  },
  {
   "cell_type": "code",
   "execution_count": 20,
   "metadata": {},
   "outputs": [
    {
     "data": {
      "text/plain": [
       "array([[2., 2., 2.],\n",
       "       [4., 4., 4.],\n",
       "       [6., 6., 6.]])"
      ]
     },
     "execution_count": 20,
     "metadata": {},
     "output_type": "execute_result"
    }
   ],
   "source": [
    "tmp.cumsum(axis=0)"
   ]
  },
  {
   "cell_type": "code",
   "execution_count": 21,
   "metadata": {},
   "outputs": [
    {
     "data": {
      "text/plain": [
       "array([[2., 4., 8.],\n",
       "       [2., 4., 8.],\n",
       "       [2., 4., 8.]])"
      ]
     },
     "execution_count": 21,
     "metadata": {},
     "output_type": "execute_result"
    }
   ],
   "source": [
    "tmp.cumprod(axis=1)"
   ]
  },
  {
   "cell_type": "code",
   "execution_count": 22,
   "metadata": {},
   "outputs": [
    {
     "data": {
      "text/plain": [
       "array([2., 2., 2., 2., 2., 2., 2., 2., 2.])"
      ]
     },
     "execution_count": 22,
     "metadata": {},
     "output_type": "execute_result"
    }
   ],
   "source": [
    "# reshape into 1-D vector\n",
    "tmp.reshape(-1)"
   ]
  },
  {
   "cell_type": "code",
   "execution_count": 23,
   "metadata": {},
   "outputs": [
    {
     "data": {
      "text/plain": [
       "array([[[[0.22882139, 0.66541928],\n",
       "         [0.29751042, 0.08953815]],\n",
       "\n",
       "        [[0.75665168, 0.60412388],\n",
       "         [0.21958795, 0.2985947 ]]],\n",
       "\n",
       "\n",
       "       [[[0.62452537, 0.32136896],\n",
       "         [0.1612256 , 0.4524406 ]],\n",
       "\n",
       "        [[0.48677384, 0.94035426],\n",
       "         [0.52247498, 0.26504352]]]])"
      ]
     },
     "execution_count": 23,
     "metadata": {},
     "output_type": "execute_result"
    }
   ],
   "source": [
    "# turn a 4 x 4 into a 2 x 2 x 2 x 2\n",
    "np.random.rand(4,4).reshape((2,2,2,2))"
   ]
  },
  {
   "cell_type": "code",
   "execution_count": 85,
   "metadata": {},
   "outputs": [
    {
     "name": "stdout",
     "output_type": "stream",
     "text": [
      "[[0.35278698 0.63991219 0.57183995 0.00831896]\n",
      " [0.79957489 0.27810065 0.35693703 0.19728153]\n",
      " [0.10687802 0.77154331 0.56396343 0.04221629]\n",
      " [0.33659686 0.20336761 0.8307987  0.51178033]]\n",
      "(4, 4)\n",
      "[0.57183995 0.00831896 0.79957489 0.27810065]\n"
     ]
    }
   ],
   "source": [
    "# selection of elements from array\n",
    "tmp= np.random.rand(4,4)\n",
    "print(tmp)\n",
    "print(tmp.shape)\n",
    "print(tmp.reshape(-1)[np.asarray([2,3,4,5])])"
   ]
  },
  {
   "cell_type": "code",
   "execution_count": 25,
   "metadata": {},
   "outputs": [
    {
     "data": {
      "text/plain": [
       "array([[0.15893424, 0.38649013],\n",
       "       [0.09670551, 0.98284857],\n",
       "       [0.13018378, 0.77357798]])"
      ]
     },
     "execution_count": 25,
     "metadata": {},
     "output_type": "execute_result"
    }
   ],
   "source": [
    "# slice\n",
    "tmp[1:4,1:3]"
   ]
  },
  {
   "cell_type": "code",
   "execution_count": 26,
   "metadata": {},
   "outputs": [
    {
     "data": {
      "text/plain": [
       "array([0.71191332, 0.96511703, 0.98284857, 0.77357798])"
      ]
     },
     "execution_count": 26,
     "metadata": {},
     "output_type": "execute_result"
    }
   ],
   "source": [
    "# pick out all elements satisfying condition as 1-D array\n",
    "tmp[tmp>0.5]"
   ]
  },
  {
   "cell_type": "code",
   "execution_count": 27,
   "metadata": {},
   "outputs": [
    {
     "data": {
      "text/plain": [
       "array([[0.96511703, 0.09670551, 0.98284857, 0.40643521]])"
      ]
     },
     "execution_count": 27,
     "metadata": {},
     "output_type": "execute_result"
    }
   ],
   "source": [
    "# pick out rows where first element is >0.5\n",
    "tmp[tmp[:,0]>0.5,:]"
   ]
  },
  {
   "cell_type": "code",
   "execution_count": 28,
   "metadata": {},
   "outputs": [
    {
     "data": {
      "text/plain": [
       "array([[0.06920926, 0.34953936, 0.02643894, 0.71191332],\n",
       "       [0.32225573, 0.15893424, 0.38649013, 0.19229987],\n",
       "       [0.96511703, 0.09670551, 0.98284857, 0.40643521],\n",
       "       [0.0386594 , 0.13018378, 0.77357798, 0.46723057]])"
      ]
     },
     "execution_count": 28,
     "metadata": {},
     "output_type": "execute_result"
    }
   ],
   "source": [
    "tmp"
   ]
  },
  {
   "cell_type": "code",
   "execution_count": 29,
   "metadata": {},
   "outputs": [],
   "source": [
    "# Assign values to a subset of array elements.  Note that this happens in place (i.e., the value of tmp is changed)\n",
    "tmp.reshape(-1)[[1,2,3,4]]=0"
   ]
  },
  {
   "cell_type": "code",
   "execution_count": 30,
   "metadata": {},
   "outputs": [
    {
     "data": {
      "text/plain": [
       "array([[0.06920926, 0.        , 0.        , 0.        ],\n",
       "       [0.        , 0.15893424, 0.38649013, 0.19229987],\n",
       "       [0.96511703, 0.09670551, 0.98284857, 0.40643521],\n",
       "       [0.0386594 , 0.13018378, 0.77357798, 0.46723057]])"
      ]
     },
     "execution_count": 30,
     "metadata": {},
     "output_type": "execute_result"
    }
   ],
   "source": [
    "tmp"
   ]
  },
  {
   "cell_type": "code",
   "execution_count": 31,
   "metadata": {},
   "outputs": [],
   "source": [
    "# Linear Algebra\n",
    "a = np.array([[1.0, 2.0], [3.0, 4.0]])"
   ]
  },
  {
   "cell_type": "code",
   "execution_count": 32,
   "metadata": {},
   "outputs": [
    {
     "data": {
      "text/plain": [
       "array([[ 1.,  4.],\n",
       "       [ 9., 16.]])"
      ]
     },
     "execution_count": 32,
     "metadata": {},
     "output_type": "execute_result"
    }
   ],
   "source": [
    "# element-wise\n",
    "a*a"
   ]
  },
  {
   "cell_type": "code",
   "execution_count": 33,
   "metadata": {},
   "outputs": [
    {
     "data": {
      "text/plain": [
       "array([[1., 1.],\n",
       "       [1., 1.]])"
      ]
     },
     "execution_count": 33,
     "metadata": {},
     "output_type": "execute_result"
    }
   ],
   "source": [
    "# element-wise\n",
    "a/a"
   ]
  },
  {
   "cell_type": "code",
   "execution_count": 34,
   "metadata": {},
   "outputs": [
    {
     "data": {
      "text/plain": [
       "array([[ 7., 10.],\n",
       "       [15., 22.]])"
      ]
     },
     "execution_count": 34,
     "metadata": {},
     "output_type": "execute_result"
    }
   ],
   "source": [
    "# Standard matrix multiplication.  Not element-wise!\n",
    "np.dot(a,a)"
   ]
  },
  {
   "cell_type": "code",
   "execution_count": 35,
   "metadata": {},
   "outputs": [
    {
     "data": {
      "text/plain": [
       "array([[1., 0.],\n",
       "       [0., 1.]])"
      ]
     },
     "execution_count": 35,
     "metadata": {},
     "output_type": "execute_result"
    }
   ],
   "source": [
    "np.eye(2)"
   ]
  },
  {
   "cell_type": "code",
   "execution_count": 36,
   "metadata": {},
   "outputs": [
    {
     "name": "stdout",
     "output_type": "stream",
     "text": [
      "[[1. 2.]\n",
      " [3. 4.]]\n"
     ]
    },
    {
     "data": {
      "text/plain": [
       "5.0"
      ]
     },
     "execution_count": 36,
     "metadata": {},
     "output_type": "execute_result"
    }
   ],
   "source": [
    "print(a)\n",
    "np.trace(a)"
   ]
  },
  {
   "cell_type": "markdown",
   "metadata": {},
   "source": [
    "### Pandas \n",
    "\n",
    "10 Minutes to pandas: http://pandas.pydata.org/pandas-docs/stable/10min.html\n",
    "\n"
   ]
  },
  {
   "cell_type": "code",
   "execution_count": 37,
   "metadata": {},
   "outputs": [],
   "source": [
    "# Object Creation:\n",
    "\n",
    "# series\n",
    "s = pd.Series([1,3,5,np.nan,6,8])\n",
    "\n",
    "# dataframe\n",
    "dates = pd.date_range('20130101', periods=6)\n",
    "df = pd.DataFrame(np.random.randn(6,4), index=dates, columns=list('ABCD'))"
   ]
  },
  {
   "cell_type": "code",
   "execution_count": 38,
   "metadata": {},
   "outputs": [
    {
     "data": {
      "text/plain": [
       "0    1.0\n",
       "1    3.0\n",
       "2    5.0\n",
       "3    NaN\n",
       "4    6.0\n",
       "5    8.0\n",
       "dtype: float64"
      ]
     },
     "execution_count": 38,
     "metadata": {},
     "output_type": "execute_result"
    }
   ],
   "source": [
    "s"
   ]
  },
  {
   "cell_type": "code",
   "execution_count": 39,
   "metadata": {},
   "outputs": [
    {
     "data": {
      "text/html": [
       "<div>\n",
       "<style scoped>\n",
       "    .dataframe tbody tr th:only-of-type {\n",
       "        vertical-align: middle;\n",
       "    }\n",
       "\n",
       "    .dataframe tbody tr th {\n",
       "        vertical-align: top;\n",
       "    }\n",
       "\n",
       "    .dataframe thead th {\n",
       "        text-align: right;\n",
       "    }\n",
       "</style>\n",
       "<table border=\"1\" class=\"dataframe\">\n",
       "  <thead>\n",
       "    <tr style=\"text-align: right;\">\n",
       "      <th></th>\n",
       "      <th>A</th>\n",
       "      <th>B</th>\n",
       "      <th>C</th>\n",
       "      <th>D</th>\n",
       "    </tr>\n",
       "  </thead>\n",
       "  <tbody>\n",
       "    <tr>\n",
       "      <th>2013-01-01</th>\n",
       "      <td>0.788956</td>\n",
       "      <td>0.339824</td>\n",
       "      <td>-0.072378</td>\n",
       "      <td>1.395997</td>\n",
       "    </tr>\n",
       "    <tr>\n",
       "      <th>2013-01-02</th>\n",
       "      <td>-0.702222</td>\n",
       "      <td>-2.257253</td>\n",
       "      <td>-2.075232</td>\n",
       "      <td>-0.771627</td>\n",
       "    </tr>\n",
       "    <tr>\n",
       "      <th>2013-01-03</th>\n",
       "      <td>1.273710</td>\n",
       "      <td>0.953839</td>\n",
       "      <td>0.999502</td>\n",
       "      <td>-0.383006</td>\n",
       "    </tr>\n",
       "    <tr>\n",
       "      <th>2013-01-04</th>\n",
       "      <td>1.485087</td>\n",
       "      <td>0.376984</td>\n",
       "      <td>1.084758</td>\n",
       "      <td>-0.107736</td>\n",
       "    </tr>\n",
       "    <tr>\n",
       "      <th>2013-01-05</th>\n",
       "      <td>-2.231075</td>\n",
       "      <td>-0.700767</td>\n",
       "      <td>-0.741179</td>\n",
       "      <td>0.656398</td>\n",
       "    </tr>\n",
       "    <tr>\n",
       "      <th>2013-01-06</th>\n",
       "      <td>0.786569</td>\n",
       "      <td>-0.560940</td>\n",
       "      <td>-1.065589</td>\n",
       "      <td>-2.825338</td>\n",
       "    </tr>\n",
       "  </tbody>\n",
       "</table>\n",
       "</div>"
      ],
      "text/plain": [
       "                   A         B         C         D\n",
       "2013-01-01  0.788956  0.339824 -0.072378  1.395997\n",
       "2013-01-02 -0.702222 -2.257253 -2.075232 -0.771627\n",
       "2013-01-03  1.273710  0.953839  0.999502 -0.383006\n",
       "2013-01-04  1.485087  0.376984  1.084758 -0.107736\n",
       "2013-01-05 -2.231075 -0.700767 -0.741179  0.656398\n",
       "2013-01-06  0.786569 -0.560940 -1.065589 -2.825338"
      ]
     },
     "execution_count": 39,
     "metadata": {},
     "output_type": "execute_result"
    }
   ],
   "source": [
    "df"
   ]
  },
  {
   "cell_type": "code",
   "execution_count": 40,
   "metadata": {},
   "outputs": [
    {
     "data": {
      "text/html": [
       "<div>\n",
       "<style scoped>\n",
       "    .dataframe tbody tr th:only-of-type {\n",
       "        vertical-align: middle;\n",
       "    }\n",
       "\n",
       "    .dataframe tbody tr th {\n",
       "        vertical-align: top;\n",
       "    }\n",
       "\n",
       "    .dataframe thead th {\n",
       "        text-align: right;\n",
       "    }\n",
       "</style>\n",
       "<table border=\"1\" class=\"dataframe\">\n",
       "  <thead>\n",
       "    <tr style=\"text-align: right;\">\n",
       "      <th></th>\n",
       "      <th>A</th>\n",
       "      <th>B</th>\n",
       "      <th>C</th>\n",
       "      <th>D</th>\n",
       "      <th>E</th>\n",
       "      <th>F</th>\n",
       "    </tr>\n",
       "  </thead>\n",
       "  <tbody>\n",
       "    <tr>\n",
       "      <th>0</th>\n",
       "      <td>1.0</td>\n",
       "      <td>2013-01-02</td>\n",
       "      <td>1.0</td>\n",
       "      <td>3</td>\n",
       "      <td>test</td>\n",
       "      <td>foo</td>\n",
       "    </tr>\n",
       "    <tr>\n",
       "      <th>1</th>\n",
       "      <td>1.0</td>\n",
       "      <td>2013-01-02</td>\n",
       "      <td>1.0</td>\n",
       "      <td>3</td>\n",
       "      <td>train</td>\n",
       "      <td>foo</td>\n",
       "    </tr>\n",
       "    <tr>\n",
       "      <th>2</th>\n",
       "      <td>1.0</td>\n",
       "      <td>2013-01-02</td>\n",
       "      <td>1.0</td>\n",
       "      <td>3</td>\n",
       "      <td>test</td>\n",
       "      <td>foo</td>\n",
       "    </tr>\n",
       "    <tr>\n",
       "      <th>3</th>\n",
       "      <td>1.0</td>\n",
       "      <td>2013-01-02</td>\n",
       "      <td>1.0</td>\n",
       "      <td>3</td>\n",
       "      <td>train</td>\n",
       "      <td>foo</td>\n",
       "    </tr>\n",
       "  </tbody>\n",
       "</table>\n",
       "</div>"
      ],
      "text/plain": [
       "     A          B    C  D      E    F\n",
       "0  1.0 2013-01-02  1.0  3   test  foo\n",
       "1  1.0 2013-01-02  1.0  3  train  foo\n",
       "2  1.0 2013-01-02  1.0  3   test  foo\n",
       "3  1.0 2013-01-02  1.0  3  train  foo"
      ]
     },
     "execution_count": 40,
     "metadata": {},
     "output_type": "execute_result"
    }
   ],
   "source": [
    "df2 = pd.DataFrame({ 'A' : 1.,\n",
    "   ....:                      'B' : pd.Timestamp('20130102'),\n",
    "   ....:                      'C' : pd.Series(1,index=list(range(4)),dtype='float32'),\n",
    "   ....:                      'D' : np.array([3] * 4,dtype='int32'),\n",
    "   ....:                      'E' : pd.Categorical([\"test\",\"train\",\"test\",\"train\"]),\n",
    "   ....:                      'F' : 'foo' })\n",
    "df2"
   ]
  },
  {
   "cell_type": "code",
   "execution_count": 41,
   "metadata": {},
   "outputs": [
    {
     "data": {
      "text/html": [
       "<div>\n",
       "<style scoped>\n",
       "    .dataframe tbody tr th:only-of-type {\n",
       "        vertical-align: middle;\n",
       "    }\n",
       "\n",
       "    .dataframe tbody tr th {\n",
       "        vertical-align: top;\n",
       "    }\n",
       "\n",
       "    .dataframe thead th {\n",
       "        text-align: right;\n",
       "    }\n",
       "</style>\n",
       "<table border=\"1\" class=\"dataframe\">\n",
       "  <thead>\n",
       "    <tr style=\"text-align: right;\">\n",
       "      <th></th>\n",
       "      <th>A</th>\n",
       "      <th>B</th>\n",
       "      <th>C</th>\n",
       "      <th>D</th>\n",
       "    </tr>\n",
       "  </thead>\n",
       "  <tbody>\n",
       "    <tr>\n",
       "      <th>2013-01-01</th>\n",
       "      <td>0.788956</td>\n",
       "      <td>0.339824</td>\n",
       "      <td>-0.072378</td>\n",
       "      <td>1.395997</td>\n",
       "    </tr>\n",
       "    <tr>\n",
       "      <th>2013-01-02</th>\n",
       "      <td>-0.702222</td>\n",
       "      <td>-2.257253</td>\n",
       "      <td>-2.075232</td>\n",
       "      <td>-0.771627</td>\n",
       "    </tr>\n",
       "  </tbody>\n",
       "</table>\n",
       "</div>"
      ],
      "text/plain": [
       "                   A         B         C         D\n",
       "2013-01-01  0.788956  0.339824 -0.072378  1.395997\n",
       "2013-01-02 -0.702222 -2.257253 -2.075232 -0.771627"
      ]
     },
     "execution_count": 41,
     "metadata": {},
     "output_type": "execute_result"
    }
   ],
   "source": [
    "#Viewing Data\n",
    "df.head(2)"
   ]
  },
  {
   "cell_type": "code",
   "execution_count": 42,
   "metadata": {},
   "outputs": [
    {
     "data": {
      "text/plain": [
       "DatetimeIndex(['2013-01-01', '2013-01-02', '2013-01-03', '2013-01-04',\n",
       "               '2013-01-05', '2013-01-06'],\n",
       "              dtype='datetime64[ns]', freq='D')"
      ]
     },
     "execution_count": 42,
     "metadata": {},
     "output_type": "execute_result"
    }
   ],
   "source": [
    "df.index"
   ]
  },
  {
   "cell_type": "code",
   "execution_count": 43,
   "metadata": {},
   "outputs": [
    {
     "data": {
      "text/plain": [
       "Index(['A', 'B', 'C', 'D'], dtype='object')"
      ]
     },
     "execution_count": 43,
     "metadata": {},
     "output_type": "execute_result"
    }
   ],
   "source": [
    "df.columns"
   ]
  },
  {
   "cell_type": "code",
   "execution_count": 44,
   "metadata": {},
   "outputs": [
    {
     "name": "stdout",
     "output_type": "stream",
     "text": [
      "                   A         B         C         D\n",
      "2013-01-01  0.788956  0.339824 -0.072378  1.395997\n",
      "2013-01-02 -0.702222 -2.257253 -2.075232 -0.771627\n",
      "2013-01-03  1.273710  0.953839  0.999502 -0.383006\n",
      "2013-01-04  1.485087  0.376984  1.084758 -0.107736\n",
      "2013-01-05 -2.231075 -0.700767 -0.741179  0.656398\n",
      "2013-01-06  0.786569 -0.560940 -1.065589 -2.825338\n",
      "\n",
      "                   A         B         C         D\n",
      "2013-01-06  0.786569 -0.560940 -1.065589 -2.825338\n",
      "2013-01-05 -2.231075 -0.700767 -0.741179  0.656398\n",
      "2013-01-04  1.485087  0.376984  1.084758 -0.107736\n",
      "2013-01-03  1.273710  0.953839  0.999502 -0.383006\n",
      "2013-01-02 -0.702222 -2.257253 -2.075232 -0.771627\n",
      "2013-01-01  0.788956  0.339824 -0.072378  1.395997\n",
      "\n",
      "                   D         C         B         A\n",
      "2013-01-01  1.395997 -0.072378  0.339824  0.788956\n",
      "2013-01-02 -0.771627 -2.075232 -2.257253 -0.702222\n",
      "2013-01-03 -0.383006  0.999502  0.953839  1.273710\n",
      "2013-01-04 -0.107736  1.084758  0.376984  1.485087\n",
      "2013-01-05  0.656398 -0.741179 -0.700767 -2.231075\n",
      "2013-01-06 -2.825338 -1.065589 -0.560940  0.786569\n"
     ]
    }
   ],
   "source": [
    "# Sorting\n",
    "print(df)\n",
    "print()\n",
    "\n",
    "# these operations do not change the value of df\n",
    "\n",
    "# sort rows by index\n",
    "print(df.sort_index(axis=0, ascending=False)) \n",
    "print()\n",
    "\n",
    "# sort columns by column header\n",
    "print(df.sort_index(axis=1, ascending=False))"
   ]
  },
  {
   "cell_type": "code",
   "execution_count": 45,
   "metadata": {},
   "outputs": [
    {
     "name": "stdout",
     "output_type": "stream",
     "text": [
      "                   A         B         C         D\n",
      "2013-01-01  0.788956  0.339824 -0.072378  1.395997\n",
      "2013-01-02 -0.702222 -2.257253 -2.075232 -0.771627\n",
      "2013-01-03  1.273710  0.953839  0.999502 -0.383006\n",
      "2013-01-04  1.485087  0.376984  1.084758 -0.107736\n",
      "2013-01-05 -2.231075 -0.700767 -0.741179  0.656398\n",
      "2013-01-06  0.786569 -0.560940 -1.065589 -2.825338\n",
      "\n",
      "                   A         B         C         D\n",
      "2013-01-02 -0.702222 -2.257253 -2.075232 -0.771627\n",
      "2013-01-05 -2.231075 -0.700767 -0.741179  0.656398\n",
      "2013-01-06  0.786569 -0.560940 -1.065589 -2.825338\n",
      "2013-01-01  0.788956  0.339824 -0.072378  1.395997\n",
      "2013-01-04  1.485087  0.376984  1.084758 -0.107736\n",
      "2013-01-03  1.273710  0.953839  0.999502 -0.383006\n",
      "\n",
      "                   D         B         C         A\n",
      "2013-01-01  1.395997  0.339824 -0.072378  0.788956\n",
      "2013-01-02 -0.771627 -2.257253 -2.075232 -0.702222\n",
      "2013-01-03 -0.383006  0.953839  0.999502  1.273710\n",
      "2013-01-04 -0.107736  0.376984  1.084758  1.485087\n",
      "2013-01-05  0.656398 -0.700767 -0.741179 -2.231075\n",
      "2013-01-06 -2.825338 -0.560940 -1.065589  0.786569\n"
     ]
    }
   ],
   "source": [
    "print(df)\n",
    "print()\n",
    "\n",
    "# sort rows using values in a particular column\n",
    "print(df.sort_values(by='B')) # axis defaults to 0\n",
    "print()\n",
    "\n",
    "# sort columns using values corresponding to a particular row index\n",
    "print(df.sort_values(axis=1,by='2013-01-03'))"
   ]
  },
  {
   "cell_type": "code",
   "execution_count": 46,
   "metadata": {},
   "outputs": [
    {
     "data": {
      "text/html": [
       "<div>\n",
       "<style scoped>\n",
       "    .dataframe tbody tr th:only-of-type {\n",
       "        vertical-align: middle;\n",
       "    }\n",
       "\n",
       "    .dataframe tbody tr th {\n",
       "        vertical-align: top;\n",
       "    }\n",
       "\n",
       "    .dataframe thead th {\n",
       "        text-align: right;\n",
       "    }\n",
       "</style>\n",
       "<table border=\"1\" class=\"dataframe\">\n",
       "  <thead>\n",
       "    <tr style=\"text-align: right;\">\n",
       "      <th></th>\n",
       "      <th>A</th>\n",
       "      <th>B</th>\n",
       "      <th>C</th>\n",
       "      <th>D</th>\n",
       "    </tr>\n",
       "  </thead>\n",
       "  <tbody>\n",
       "    <tr>\n",
       "      <th>count</th>\n",
       "      <td>6.000000</td>\n",
       "      <td>6.000000</td>\n",
       "      <td>6.000000</td>\n",
       "      <td>6.000000</td>\n",
       "    </tr>\n",
       "    <tr>\n",
       "      <th>mean</th>\n",
       "      <td>0.233504</td>\n",
       "      <td>-0.308052</td>\n",
       "      <td>-0.311686</td>\n",
       "      <td>-0.339219</td>\n",
       "    </tr>\n",
       "    <tr>\n",
       "      <th>std</th>\n",
       "      <td>1.429169</td>\n",
       "      <td>1.140083</td>\n",
       "      <td>1.232028</td>\n",
       "      <td>1.443987</td>\n",
       "    </tr>\n",
       "    <tr>\n",
       "      <th>min</th>\n",
       "      <td>-2.231075</td>\n",
       "      <td>-2.257253</td>\n",
       "      <td>-2.075232</td>\n",
       "      <td>-2.825338</td>\n",
       "    </tr>\n",
       "    <tr>\n",
       "      <th>25%</th>\n",
       "      <td>-0.330024</td>\n",
       "      <td>-0.665810</td>\n",
       "      <td>-0.984487</td>\n",
       "      <td>-0.674472</td>\n",
       "    </tr>\n",
       "    <tr>\n",
       "      <th>50%</th>\n",
       "      <td>0.787763</td>\n",
       "      <td>-0.110558</td>\n",
       "      <td>-0.406779</td>\n",
       "      <td>-0.245371</td>\n",
       "    </tr>\n",
       "    <tr>\n",
       "      <th>75%</th>\n",
       "      <td>1.152521</td>\n",
       "      <td>0.367694</td>\n",
       "      <td>0.731532</td>\n",
       "      <td>0.465364</td>\n",
       "    </tr>\n",
       "    <tr>\n",
       "      <th>max</th>\n",
       "      <td>1.485087</td>\n",
       "      <td>0.953839</td>\n",
       "      <td>1.084758</td>\n",
       "      <td>1.395997</td>\n",
       "    </tr>\n",
       "  </tbody>\n",
       "</table>\n",
       "</div>"
      ],
      "text/plain": [
       "              A         B         C         D\n",
       "count  6.000000  6.000000  6.000000  6.000000\n",
       "mean   0.233504 -0.308052 -0.311686 -0.339219\n",
       "std    1.429169  1.140083  1.232028  1.443987\n",
       "min   -2.231075 -2.257253 -2.075232 -2.825338\n",
       "25%   -0.330024 -0.665810 -0.984487 -0.674472\n",
       "50%    0.787763 -0.110558 -0.406779 -0.245371\n",
       "75%    1.152521  0.367694  0.731532  0.465364\n",
       "max    1.485087  0.953839  1.084758  1.395997"
      ]
     },
     "execution_count": 46,
     "metadata": {},
     "output_type": "execute_result"
    }
   ],
   "source": [
    "# Descriptive statistics of each column\n",
    "df.describe()"
   ]
  },
  {
   "cell_type": "code",
   "execution_count": 47,
   "metadata": {},
   "outputs": [
    {
     "data": {
      "text/plain": [
       "2013-01-01    0.788956\n",
       "2013-01-02   -0.702222\n",
       "2013-01-03    1.273710\n",
       "2013-01-04    1.485087\n",
       "2013-01-05   -2.231075\n",
       "2013-01-06    0.786569\n",
       "Freq: D, Name: A, dtype: float64"
      ]
     },
     "execution_count": 47,
     "metadata": {},
     "output_type": "execute_result"
    }
   ],
   "source": [
    "# Selection\n",
    "\n",
    "# select a particular column (with row index) \n",
    "df['A']"
   ]
  },
  {
   "cell_type": "code",
   "execution_count": 48,
   "metadata": {},
   "outputs": [
    {
     "name": "stdout",
     "output_type": "stream",
     "text": [
      "                   A         B         C         D\n",
      "2013-01-02 -0.702222 -2.257253 -2.075232 -0.771627\n",
      "2013-01-03  1.273710  0.953839  0.999502 -0.383006\n",
      "\n",
      "                   A         B         C         D\n",
      "2013-01-02 -0.702222 -2.257253 -2.075232 -0.771627\n",
      "2013-01-03  1.273710  0.953839  0.999502 -0.383006\n",
      "\n",
      "                   B         D\n",
      "2013-01-02 -2.257253 -0.771627\n",
      "2013-01-03  0.953839 -0.383006\n"
     ]
    }
   ],
   "source": [
    "# select rows by slicing\n",
    "print(df[1:3])\n",
    "print()\n",
    "\n",
    "# equivalent but more flexible; select rows by integer positions\n",
    "print(df.iloc[1:3,:])\n",
    "print()\n",
    "\n",
    "# subsets of rows and columns, can slice or list\n",
    "print(df.iloc[1:3,[1,3]])"
   ]
  },
  {
   "cell_type": "code",
   "execution_count": 49,
   "metadata": {},
   "outputs": [
    {
     "data": {
      "text/plain": [
       "A    0.788956\n",
       "B    0.339824\n",
       "C   -0.072378\n",
       "D    1.395997\n",
       "Name: 2013-01-01 00:00:00, dtype: float64"
      ]
     },
     "execution_count": 49,
     "metadata": {},
     "output_type": "execute_result"
    }
   ],
   "source": [
    "# select rows or columns by value\n",
    "df.loc[dates[0]] # equivalent to df.loc['2013-01-01']"
   ]
  },
  {
   "cell_type": "code",
   "execution_count": 50,
   "metadata": {},
   "outputs": [
    {
     "data": {
      "text/html": [
       "<div>\n",
       "<style scoped>\n",
       "    .dataframe tbody tr th:only-of-type {\n",
       "        vertical-align: middle;\n",
       "    }\n",
       "\n",
       "    .dataframe tbody tr th {\n",
       "        vertical-align: top;\n",
       "    }\n",
       "\n",
       "    .dataframe thead th {\n",
       "        text-align: right;\n",
       "    }\n",
       "</style>\n",
       "<table border=\"1\" class=\"dataframe\">\n",
       "  <thead>\n",
       "    <tr style=\"text-align: right;\">\n",
       "      <th></th>\n",
       "      <th>A</th>\n",
       "      <th>C</th>\n",
       "    </tr>\n",
       "  </thead>\n",
       "  <tbody>\n",
       "    <tr>\n",
       "      <th>2013-01-01</th>\n",
       "      <td>0.788956</td>\n",
       "      <td>-0.072378</td>\n",
       "    </tr>\n",
       "    <tr>\n",
       "      <th>2013-01-02</th>\n",
       "      <td>-0.702222</td>\n",
       "      <td>-2.075232</td>\n",
       "    </tr>\n",
       "    <tr>\n",
       "      <th>2013-01-03</th>\n",
       "      <td>1.273710</td>\n",
       "      <td>0.999502</td>\n",
       "    </tr>\n",
       "    <tr>\n",
       "      <th>2013-01-04</th>\n",
       "      <td>1.485087</td>\n",
       "      <td>1.084758</td>\n",
       "    </tr>\n",
       "    <tr>\n",
       "      <th>2013-01-05</th>\n",
       "      <td>-2.231075</td>\n",
       "      <td>-0.741179</td>\n",
       "    </tr>\n",
       "    <tr>\n",
       "      <th>2013-01-06</th>\n",
       "      <td>0.786569</td>\n",
       "      <td>-1.065589</td>\n",
       "    </tr>\n",
       "  </tbody>\n",
       "</table>\n",
       "</div>"
      ],
      "text/plain": [
       "                   A         C\n",
       "2013-01-01  0.788956 -0.072378\n",
       "2013-01-02 -0.702222 -2.075232\n",
       "2013-01-03  1.273710  0.999502\n",
       "2013-01-04  1.485087  1.084758\n",
       "2013-01-05 -2.231075 -0.741179\n",
       "2013-01-06  0.786569 -1.065589"
      ]
     },
     "execution_count": 50,
     "metadata": {},
     "output_type": "execute_result"
    }
   ],
   "source": [
    "# can select row and column values\n",
    "df.loc[:,['A','C']]"
   ]
  },
  {
   "cell_type": "code",
   "execution_count": 51,
   "metadata": {},
   "outputs": [
    {
     "data": {
      "text/html": [
       "<div>\n",
       "<style scoped>\n",
       "    .dataframe tbody tr th:only-of-type {\n",
       "        vertical-align: middle;\n",
       "    }\n",
       "\n",
       "    .dataframe tbody tr th {\n",
       "        vertical-align: top;\n",
       "    }\n",
       "\n",
       "    .dataframe thead th {\n",
       "        text-align: right;\n",
       "    }\n",
       "</style>\n",
       "<table border=\"1\" class=\"dataframe\">\n",
       "  <thead>\n",
       "    <tr style=\"text-align: right;\">\n",
       "      <th></th>\n",
       "      <th>A</th>\n",
       "      <th>B</th>\n",
       "    </tr>\n",
       "  </thead>\n",
       "  <tbody>\n",
       "    <tr>\n",
       "      <th>2013-01-02</th>\n",
       "      <td>-0.702222</td>\n",
       "      <td>-2.257253</td>\n",
       "    </tr>\n",
       "    <tr>\n",
       "      <th>2013-01-03</th>\n",
       "      <td>1.273710</td>\n",
       "      <td>0.953839</td>\n",
       "    </tr>\n",
       "    <tr>\n",
       "      <th>2013-01-04</th>\n",
       "      <td>1.485087</td>\n",
       "      <td>0.376984</td>\n",
       "    </tr>\n",
       "  </tbody>\n",
       "</table>\n",
       "</div>"
      ],
      "text/plain": [
       "                   A         B\n",
       "2013-01-02 -0.702222 -2.257253\n",
       "2013-01-03  1.273710  0.953839\n",
       "2013-01-04  1.485087  0.376984"
      ]
     },
     "execution_count": 51,
     "metadata": {},
     "output_type": "execute_result"
    }
   ],
   "source": [
    "# note that the end value is included for loc...\n",
    "df.loc['20130102':'20130104',['A','B']]"
   ]
  },
  {
   "cell_type": "code",
   "execution_count": 52,
   "metadata": {},
   "outputs": [
    {
     "data": {
      "text/html": [
       "<div>\n",
       "<style scoped>\n",
       "    .dataframe tbody tr th:only-of-type {\n",
       "        vertical-align: middle;\n",
       "    }\n",
       "\n",
       "    .dataframe tbody tr th {\n",
       "        vertical-align: top;\n",
       "    }\n",
       "\n",
       "    .dataframe thead th {\n",
       "        text-align: right;\n",
       "    }\n",
       "</style>\n",
       "<table border=\"1\" class=\"dataframe\">\n",
       "  <thead>\n",
       "    <tr style=\"text-align: right;\">\n",
       "      <th></th>\n",
       "      <th>A</th>\n",
       "      <th>B</th>\n",
       "    </tr>\n",
       "  </thead>\n",
       "  <tbody>\n",
       "    <tr>\n",
       "      <th>2013-01-02</th>\n",
       "      <td>-0.702222</td>\n",
       "      <td>-2.257253</td>\n",
       "    </tr>\n",
       "    <tr>\n",
       "      <th>2013-01-03</th>\n",
       "      <td>1.273710</td>\n",
       "      <td>0.953839</td>\n",
       "    </tr>\n",
       "    <tr>\n",
       "      <th>2013-01-04</th>\n",
       "      <td>1.485087</td>\n",
       "      <td>0.376984</td>\n",
       "    </tr>\n",
       "  </tbody>\n",
       "</table>\n",
       "</div>"
      ],
      "text/plain": [
       "                   A         B\n",
       "2013-01-02 -0.702222 -2.257253\n",
       "2013-01-03  1.273710  0.953839\n",
       "2013-01-04  1.485087  0.376984"
      ]
     },
     "execution_count": 52,
     "metadata": {},
     "output_type": "execute_result"
    }
   ],
   "source": [
    "# ... but not for iloc\n",
    "df.iloc[1:4,0:2]"
   ]
  },
  {
   "cell_type": "code",
   "execution_count": 53,
   "metadata": {},
   "outputs": [
    {
     "data": {
      "text/html": [
       "<div>\n",
       "<style scoped>\n",
       "    .dataframe tbody tr th:only-of-type {\n",
       "        vertical-align: middle;\n",
       "    }\n",
       "\n",
       "    .dataframe tbody tr th {\n",
       "        vertical-align: top;\n",
       "    }\n",
       "\n",
       "    .dataframe thead th {\n",
       "        text-align: right;\n",
       "    }\n",
       "</style>\n",
       "<table border=\"1\" class=\"dataframe\">\n",
       "  <thead>\n",
       "    <tr style=\"text-align: right;\">\n",
       "      <th></th>\n",
       "      <th>A</th>\n",
       "      <th>B</th>\n",
       "      <th>C</th>\n",
       "      <th>D</th>\n",
       "    </tr>\n",
       "  </thead>\n",
       "  <tbody>\n",
       "    <tr>\n",
       "      <th>2013-01-01</th>\n",
       "      <td>0.788956</td>\n",
       "      <td>0.339824</td>\n",
       "      <td>-0.072378</td>\n",
       "      <td>1.395997</td>\n",
       "    </tr>\n",
       "    <tr>\n",
       "      <th>2013-01-03</th>\n",
       "      <td>1.273710</td>\n",
       "      <td>0.953839</td>\n",
       "      <td>0.999502</td>\n",
       "      <td>-0.383006</td>\n",
       "    </tr>\n",
       "    <tr>\n",
       "      <th>2013-01-04</th>\n",
       "      <td>1.485087</td>\n",
       "      <td>0.376984</td>\n",
       "      <td>1.084758</td>\n",
       "      <td>-0.107736</td>\n",
       "    </tr>\n",
       "    <tr>\n",
       "      <th>2013-01-06</th>\n",
       "      <td>0.786569</td>\n",
       "      <td>-0.560940</td>\n",
       "      <td>-1.065589</td>\n",
       "      <td>-2.825338</td>\n",
       "    </tr>\n",
       "  </tbody>\n",
       "</table>\n",
       "</div>"
      ],
      "text/plain": [
       "                   A         B         C         D\n",
       "2013-01-01  0.788956  0.339824 -0.072378  1.395997\n",
       "2013-01-03  1.273710  0.953839  0.999502 -0.383006\n",
       "2013-01-04  1.485087  0.376984  1.084758 -0.107736\n",
       "2013-01-06  0.786569 -0.560940 -1.065589 -2.825338"
      ]
     },
     "execution_count": 53,
     "metadata": {},
     "output_type": "execute_result"
    }
   ],
   "source": [
    "# Boolean Indexing\n",
    "\n",
    "# select all rows where a condition is met\n",
    "df[df.A > 0]"
   ]
  },
  {
   "cell_type": "code",
   "execution_count": 54,
   "metadata": {},
   "outputs": [],
   "source": [
    "# Filling in missing values\n",
    "df1 = df.reindex(index=dates[0:4], columns=list(df.columns) + ['E'])\n",
    "df1.loc[dates[1]:dates[2],'E'] = 1\n",
    "df1.loc[[dates[0],dates[3]],'E'] = 2"
   ]
  },
  {
   "cell_type": "code",
   "execution_count": 55,
   "metadata": {},
   "outputs": [
    {
     "data": {
      "text/html": [
       "<div>\n",
       "<style scoped>\n",
       "    .dataframe tbody tr th:only-of-type {\n",
       "        vertical-align: middle;\n",
       "    }\n",
       "\n",
       "    .dataframe tbody tr th {\n",
       "        vertical-align: top;\n",
       "    }\n",
       "\n",
       "    .dataframe thead th {\n",
       "        text-align: right;\n",
       "    }\n",
       "</style>\n",
       "<table border=\"1\" class=\"dataframe\">\n",
       "  <thead>\n",
       "    <tr style=\"text-align: right;\">\n",
       "      <th></th>\n",
       "      <th>A</th>\n",
       "      <th>B</th>\n",
       "      <th>C</th>\n",
       "      <th>D</th>\n",
       "      <th>E</th>\n",
       "    </tr>\n",
       "  </thead>\n",
       "  <tbody>\n",
       "    <tr>\n",
       "      <th>2013-01-01</th>\n",
       "      <td>0.788956</td>\n",
       "      <td>0.339824</td>\n",
       "      <td>-0.072378</td>\n",
       "      <td>1.395997</td>\n",
       "      <td>2.0</td>\n",
       "    </tr>\n",
       "    <tr>\n",
       "      <th>2013-01-02</th>\n",
       "      <td>-0.702222</td>\n",
       "      <td>-2.257253</td>\n",
       "      <td>-2.075232</td>\n",
       "      <td>-0.771627</td>\n",
       "      <td>1.0</td>\n",
       "    </tr>\n",
       "    <tr>\n",
       "      <th>2013-01-03</th>\n",
       "      <td>1.273710</td>\n",
       "      <td>0.953839</td>\n",
       "      <td>0.999502</td>\n",
       "      <td>-0.383006</td>\n",
       "      <td>1.0</td>\n",
       "    </tr>\n",
       "    <tr>\n",
       "      <th>2013-01-04</th>\n",
       "      <td>1.485087</td>\n",
       "      <td>0.376984</td>\n",
       "      <td>1.084758</td>\n",
       "      <td>-0.107736</td>\n",
       "      <td>2.0</td>\n",
       "    </tr>\n",
       "  </tbody>\n",
       "</table>\n",
       "</div>"
      ],
      "text/plain": [
       "                   A         B         C         D    E\n",
       "2013-01-01  0.788956  0.339824 -0.072378  1.395997  2.0\n",
       "2013-01-02 -0.702222 -2.257253 -2.075232 -0.771627  1.0\n",
       "2013-01-03  1.273710  0.953839  0.999502 -0.383006  1.0\n",
       "2013-01-04  1.485087  0.376984  1.084758 -0.107736  2.0"
      ]
     },
     "execution_count": 55,
     "metadata": {},
     "output_type": "execute_result"
    }
   ],
   "source": [
    "df1"
   ]
  },
  {
   "cell_type": "code",
   "execution_count": 56,
   "metadata": {},
   "outputs": [
    {
     "name": "stdout",
     "output_type": "stream",
     "text": [
      "                   A         B         C         D    E\n",
      "2013-01-01  0.788956  0.339824 -0.072378  1.395997  NaN\n",
      "2013-01-02 -0.702222 -2.257253 -2.075232 -0.771627  1.0\n",
      "2013-01-03  1.273710  0.953839  0.999502 -0.383006  1.0\n",
      "2013-01-04  1.485087  0.376984  1.084758 -0.107736  NaN\n",
      "\n",
      "                   A         B         C         D    E\n",
      "2013-01-02 -0.702222 -2.257253 -2.075232 -0.771627  1.0\n",
      "2013-01-03  1.273710  0.953839  0.999502 -0.383006  1.0\n"
     ]
    }
   ],
   "source": [
    "# Dropping rows with any missing values\n",
    "df1 = df.reindex(index=dates[0:4], columns=list(df.columns) + ['E'])\n",
    "df1.loc[dates[1]:dates[2],'E'] = 1\n",
    "print(df1)\n",
    "print()\n",
    "print(df1.dropna(how='any'))"
   ]
  },
  {
   "cell_type": "code",
   "execution_count": 57,
   "metadata": {},
   "outputs": [
    {
     "data": {
      "text/html": [
       "<div>\n",
       "<style scoped>\n",
       "    .dataframe tbody tr th:only-of-type {\n",
       "        vertical-align: middle;\n",
       "    }\n",
       "\n",
       "    .dataframe tbody tr th {\n",
       "        vertical-align: top;\n",
       "    }\n",
       "\n",
       "    .dataframe thead th {\n",
       "        text-align: right;\n",
       "    }\n",
       "</style>\n",
       "<table border=\"1\" class=\"dataframe\">\n",
       "  <thead>\n",
       "    <tr style=\"text-align: right;\">\n",
       "      <th></th>\n",
       "      <th>A</th>\n",
       "      <th>B</th>\n",
       "      <th>C</th>\n",
       "      <th>D</th>\n",
       "      <th>E</th>\n",
       "    </tr>\n",
       "  </thead>\n",
       "  <tbody>\n",
       "    <tr>\n",
       "      <th>2013-01-01</th>\n",
       "      <td>0.788956</td>\n",
       "      <td>0.339824</td>\n",
       "      <td>-0.072378</td>\n",
       "      <td>1.395997</td>\n",
       "      <td>5.0</td>\n",
       "    </tr>\n",
       "    <tr>\n",
       "      <th>2013-01-02</th>\n",
       "      <td>-0.702222</td>\n",
       "      <td>-2.257253</td>\n",
       "      <td>-2.075232</td>\n",
       "      <td>-0.771627</td>\n",
       "      <td>1.0</td>\n",
       "    </tr>\n",
       "    <tr>\n",
       "      <th>2013-01-03</th>\n",
       "      <td>1.273710</td>\n",
       "      <td>0.953839</td>\n",
       "      <td>0.999502</td>\n",
       "      <td>-0.383006</td>\n",
       "      <td>1.0</td>\n",
       "    </tr>\n",
       "    <tr>\n",
       "      <th>2013-01-04</th>\n",
       "      <td>1.485087</td>\n",
       "      <td>0.376984</td>\n",
       "      <td>1.084758</td>\n",
       "      <td>-0.107736</td>\n",
       "      <td>5.0</td>\n",
       "    </tr>\n",
       "  </tbody>\n",
       "</table>\n",
       "</div>"
      ],
      "text/plain": [
       "                   A         B         C         D    E\n",
       "2013-01-01  0.788956  0.339824 -0.072378  1.395997  5.0\n",
       "2013-01-02 -0.702222 -2.257253 -2.075232 -0.771627  1.0\n",
       "2013-01-03  1.273710  0.953839  0.999502 -0.383006  1.0\n",
       "2013-01-04  1.485087  0.376984  1.084758 -0.107736  5.0"
      ]
     },
     "execution_count": 57,
     "metadata": {},
     "output_type": "execute_result"
    }
   ],
   "source": [
    "# Fill in all missing values with a given value\n",
    "df1 = df.reindex(index=dates[0:4], columns=list(df.columns) + ['E'])\n",
    "df1.loc[dates[1]:dates[2],'E'] = 1\n",
    "df1.fillna(value=5)"
   ]
  },
  {
   "cell_type": "code",
   "execution_count": 58,
   "metadata": {},
   "outputs": [
    {
     "name": "stdout",
     "output_type": "stream",
     "text": [
      "                   A         B         C         D    E\n",
      "2013-01-01  0.788956  0.339824 -0.072378  1.395997  NaN\n",
      "2013-01-02 -0.702222 -2.257253 -2.075232 -0.771627  1.0\n",
      "2013-01-03  1.273710  0.953839  0.999502 -0.383006  1.0\n",
      "2013-01-04  1.485087  0.376984  1.084758 -0.107736  NaN\n",
      "\n"
     ]
    },
    {
     "data": {
      "text/html": [
       "<div>\n",
       "<style scoped>\n",
       "    .dataframe tbody tr th:only-of-type {\n",
       "        vertical-align: middle;\n",
       "    }\n",
       "\n",
       "    .dataframe tbody tr th {\n",
       "        vertical-align: top;\n",
       "    }\n",
       "\n",
       "    .dataframe thead th {\n",
       "        text-align: right;\n",
       "    }\n",
       "</style>\n",
       "<table border=\"1\" class=\"dataframe\">\n",
       "  <thead>\n",
       "    <tr style=\"text-align: right;\">\n",
       "      <th></th>\n",
       "      <th>A</th>\n",
       "      <th>B</th>\n",
       "      <th>C</th>\n",
       "      <th>D</th>\n",
       "      <th>E</th>\n",
       "    </tr>\n",
       "  </thead>\n",
       "  <tbody>\n",
       "    <tr>\n",
       "      <th>2013-01-01</th>\n",
       "      <td>False</td>\n",
       "      <td>False</td>\n",
       "      <td>False</td>\n",
       "      <td>False</td>\n",
       "      <td>True</td>\n",
       "    </tr>\n",
       "    <tr>\n",
       "      <th>2013-01-02</th>\n",
       "      <td>False</td>\n",
       "      <td>False</td>\n",
       "      <td>False</td>\n",
       "      <td>False</td>\n",
       "      <td>False</td>\n",
       "    </tr>\n",
       "    <tr>\n",
       "      <th>2013-01-03</th>\n",
       "      <td>False</td>\n",
       "      <td>False</td>\n",
       "      <td>False</td>\n",
       "      <td>False</td>\n",
       "      <td>False</td>\n",
       "    </tr>\n",
       "    <tr>\n",
       "      <th>2013-01-04</th>\n",
       "      <td>False</td>\n",
       "      <td>False</td>\n",
       "      <td>False</td>\n",
       "      <td>False</td>\n",
       "      <td>True</td>\n",
       "    </tr>\n",
       "  </tbody>\n",
       "</table>\n",
       "</div>"
      ],
      "text/plain": [
       "                A      B      C      D      E\n",
       "2013-01-01  False  False  False  False   True\n",
       "2013-01-02  False  False  False  False  False\n",
       "2013-01-03  False  False  False  False  False\n",
       "2013-01-04  False  False  False  False   True"
      ]
     },
     "execution_count": 58,
     "metadata": {},
     "output_type": "execute_result"
    }
   ],
   "source": [
    "# element-wise: is each value missing?\n",
    "print(df1)\n",
    "print()\n",
    "pd.isnull(df1)"
   ]
  },
  {
   "cell_type": "code",
   "execution_count": 59,
   "metadata": {},
   "outputs": [
    {
     "name": "stdout",
     "output_type": "stream",
     "text": [
      "                   A         B         C         D\n",
      "2013-01-01  0.788956  0.339824 -0.072378  1.395997\n",
      "2013-01-02 -0.702222 -2.257253 -2.075232 -0.771627\n",
      "2013-01-03  1.273710  0.953839  0.999502 -0.383006\n",
      "2013-01-04  1.485087  0.376984  1.084758 -0.107736\n",
      "2013-01-05 -2.231075 -0.700767 -0.741179  0.656398\n",
      "2013-01-06  0.786569 -0.560940 -1.065589 -2.825338\n",
      "\n"
     ]
    },
    {
     "data": {
      "text/plain": [
       "A    1.401025\n",
       "B   -1.848312\n",
       "C   -1.870119\n",
       "D   -2.035312\n",
       "dtype: float64"
      ]
     },
     "execution_count": 59,
     "metadata": {},
     "output_type": "execute_result"
    }
   ],
   "source": [
    "# Apply an operation to each column (e.g., sum across all rows for that column)\n",
    "print(df)\n",
    "print()\n",
    "df.apply(sum,axis=0)"
   ]
  },
  {
   "cell_type": "code",
   "execution_count": 60,
   "metadata": {},
   "outputs": [
    {
     "data": {
      "text/plain": [
       "2013-01-01    2.452400\n",
       "2013-01-02   -5.806333\n",
       "2013-01-03    2.844044\n",
       "2013-01-04    2.839093\n",
       "2013-01-05   -3.016623\n",
       "2013-01-06   -3.665298\n",
       "Freq: D, dtype: float64"
      ]
     },
     "execution_count": 60,
     "metadata": {},
     "output_type": "execute_result"
    }
   ],
   "source": [
    "# Apply an operation to each row (e.g., sum across all columns for that row)\n",
    "df.apply(sum,axis=1)"
   ]
  },
  {
   "cell_type": "code",
   "execution_count": 61,
   "metadata": {},
   "outputs": [
    {
     "data": {
      "text/html": [
       "<div>\n",
       "<style scoped>\n",
       "    .dataframe tbody tr th:only-of-type {\n",
       "        vertical-align: middle;\n",
       "    }\n",
       "\n",
       "    .dataframe tbody tr th {\n",
       "        vertical-align: top;\n",
       "    }\n",
       "\n",
       "    .dataframe thead th {\n",
       "        text-align: right;\n",
       "    }\n",
       "</style>\n",
       "<table border=\"1\" class=\"dataframe\">\n",
       "  <thead>\n",
       "    <tr style=\"text-align: right;\">\n",
       "      <th></th>\n",
       "      <th>A</th>\n",
       "      <th>B</th>\n",
       "      <th>C</th>\n",
       "      <th>D</th>\n",
       "    </tr>\n",
       "  </thead>\n",
       "  <tbody>\n",
       "    <tr>\n",
       "      <th>2013-01-01</th>\n",
       "      <td>788.956147</td>\n",
       "      <td>339.824444</td>\n",
       "      <td>-72.378082</td>\n",
       "      <td>1395.997303</td>\n",
       "    </tr>\n",
       "    <tr>\n",
       "      <th>2013-01-02</th>\n",
       "      <td>-702.221978</td>\n",
       "      <td>-2257.252608</td>\n",
       "      <td>-2075.231656</td>\n",
       "      <td>-771.626844</td>\n",
       "    </tr>\n",
       "    <tr>\n",
       "      <th>2013-01-03</th>\n",
       "      <td>1273.709720</td>\n",
       "      <td>953.838611</td>\n",
       "      <td>999.502125</td>\n",
       "      <td>-383.006039</td>\n",
       "    </tr>\n",
       "    <tr>\n",
       "      <th>2013-01-04</th>\n",
       "      <td>1485.087271</td>\n",
       "      <td>376.984449</td>\n",
       "      <td>1084.757559</td>\n",
       "      <td>-107.736342</td>\n",
       "    </tr>\n",
       "    <tr>\n",
       "      <th>2013-01-05</th>\n",
       "      <td>-2231.074602</td>\n",
       "      <td>-700.766547</td>\n",
       "      <td>-741.179360</td>\n",
       "      <td>656.397731</td>\n",
       "    </tr>\n",
       "    <tr>\n",
       "      <th>2013-01-06</th>\n",
       "      <td>786.568900</td>\n",
       "      <td>-560.940252</td>\n",
       "      <td>-1065.589412</td>\n",
       "      <td>-2825.337524</td>\n",
       "    </tr>\n",
       "  </tbody>\n",
       "</table>\n",
       "</div>"
      ],
      "text/plain": [
       "                      A            B            C            D\n",
       "2013-01-01   788.956147   339.824444   -72.378082  1395.997303\n",
       "2013-01-02  -702.221978 -2257.252608 -2075.231656  -771.626844\n",
       "2013-01-03  1273.709720   953.838611   999.502125  -383.006039\n",
       "2013-01-04  1485.087271   376.984449  1084.757559  -107.736342\n",
       "2013-01-05 -2231.074602  -700.766547  -741.179360   656.397731\n",
       "2013-01-06   786.568900  -560.940252 -1065.589412 -2825.337524"
      ]
     },
     "execution_count": 61,
     "metadata": {},
     "output_type": "execute_result"
    }
   ],
   "source": [
    "# Apply an operation element-wise\n",
    "df.applymap(lambda x: x*1000)"
   ]
  },
  {
   "cell_type": "code",
   "execution_count": 62,
   "metadata": {},
   "outputs": [
    {
     "data": {
      "text/html": [
       "<div>\n",
       "<style scoped>\n",
       "    .dataframe tbody tr th:only-of-type {\n",
       "        vertical-align: middle;\n",
       "    }\n",
       "\n",
       "    .dataframe tbody tr th {\n",
       "        vertical-align: top;\n",
       "    }\n",
       "\n",
       "    .dataframe thead th {\n",
       "        text-align: right;\n",
       "    }\n",
       "</style>\n",
       "<table border=\"1\" class=\"dataframe\">\n",
       "  <thead>\n",
       "    <tr style=\"text-align: right;\">\n",
       "      <th></th>\n",
       "      <th>A</th>\n",
       "      <th>B</th>\n",
       "      <th>C</th>\n",
       "      <th>D</th>\n",
       "      <th>E</th>\n",
       "    </tr>\n",
       "  </thead>\n",
       "  <tbody>\n",
       "    <tr>\n",
       "      <th>2013-01-01</th>\n",
       "      <td>788.956147</td>\n",
       "      <td>339.824444</td>\n",
       "      <td>-72.378082</td>\n",
       "      <td>1395.997303</td>\n",
       "      <td>hellohellohellohellohellohellohellohellohelloh...</td>\n",
       "    </tr>\n",
       "    <tr>\n",
       "      <th>2013-01-02</th>\n",
       "      <td>-702.221978</td>\n",
       "      <td>-2257.252608</td>\n",
       "      <td>-2075.231656</td>\n",
       "      <td>-771.626844</td>\n",
       "      <td>hellohellohellohellohellohellohellohellohelloh...</td>\n",
       "    </tr>\n",
       "    <tr>\n",
       "      <th>2013-01-03</th>\n",
       "      <td>1273.709720</td>\n",
       "      <td>953.838611</td>\n",
       "      <td>999.502125</td>\n",
       "      <td>-383.006039</td>\n",
       "      <td>hellohellohellohellohellohellohellohellohelloh...</td>\n",
       "    </tr>\n",
       "    <tr>\n",
       "      <th>2013-01-04</th>\n",
       "      <td>1485.087271</td>\n",
       "      <td>376.984449</td>\n",
       "      <td>1084.757559</td>\n",
       "      <td>-107.736342</td>\n",
       "      <td>hellohellohellohellohellohellohellohellohelloh...</td>\n",
       "    </tr>\n",
       "    <tr>\n",
       "      <th>2013-01-05</th>\n",
       "      <td>-2231.074602</td>\n",
       "      <td>-700.766547</td>\n",
       "      <td>-741.179360</td>\n",
       "      <td>656.397731</td>\n",
       "      <td>hellohellohellohellohellohellohellohellohelloh...</td>\n",
       "    </tr>\n",
       "    <tr>\n",
       "      <th>2013-01-06</th>\n",
       "      <td>786.568900</td>\n",
       "      <td>-560.940252</td>\n",
       "      <td>-1065.589412</td>\n",
       "      <td>-2825.337524</td>\n",
       "      <td>hellohellohellohellohellohellohellohellohelloh...</td>\n",
       "    </tr>\n",
       "  </tbody>\n",
       "</table>\n",
       "</div>"
      ],
      "text/plain": [
       "                      A            B            C            D  \\\n",
       "2013-01-01   788.956147   339.824444   -72.378082  1395.997303   \n",
       "2013-01-02  -702.221978 -2257.252608 -2075.231656  -771.626844   \n",
       "2013-01-03  1273.709720   953.838611   999.502125  -383.006039   \n",
       "2013-01-04  1485.087271   376.984449  1084.757559  -107.736342   \n",
       "2013-01-05 -2231.074602  -700.766547  -741.179360   656.397731   \n",
       "2013-01-06   786.568900  -560.940252 -1065.589412 -2825.337524   \n",
       "\n",
       "                                                            E  \n",
       "2013-01-01  hellohellohellohellohellohellohellohellohelloh...  \n",
       "2013-01-02  hellohellohellohellohellohellohellohellohelloh...  \n",
       "2013-01-03  hellohellohellohellohellohellohellohellohelloh...  \n",
       "2013-01-04  hellohellohellohellohellohellohellohellohelloh...  \n",
       "2013-01-05  hellohellohellohellohellohellohellohellohelloh...  \n",
       "2013-01-06  hellohellohellohellohellohellohellohellohelloh...  "
      ]
     },
     "execution_count": 62,
     "metadata": {},
     "output_type": "execute_result"
    }
   ],
   "source": [
    "df3 = df\n",
    "df3['E'] = 'hello'\n",
    "df3*1000"
   ]
  },
  {
   "cell_type": "code",
   "execution_count": 63,
   "metadata": {},
   "outputs": [
    {
     "name": "stdout",
     "output_type": "stream",
     "text": [
      "          0         1         2         3\n",
      "0  0.558237  0.896062 -0.933587 -1.406544\n",
      "1 -0.103397  0.534815  0.398888  1.250368\n",
      "2 -0.468078  1.726980 -0.298155  1.141534\n",
      "3  0.012279 -1.568485 -1.171172 -0.509157\n",
      "4  1.247921  0.339777 -2.522854  0.545195\n",
      "5  0.475651 -0.607365 -1.203764 -0.100191\n",
      "6 -1.033077  1.932870 -0.768021 -0.113925\n",
      "7 -1.292133 -1.629493 -0.891007 -1.647125\n",
      "8 -1.029836 -0.400729  1.823487  1.332935\n",
      "9  0.006161 -0.090565 -0.458663  0.004510\n",
      "\n",
      "          0         1         2         3\n",
      "0  0.558237  0.896062 -0.933587 -1.406544\n",
      "1 -0.103397  0.534815  0.398888  1.250368\n",
      "5  0.475651 -0.607365 -1.203764 -0.100191\n",
      "6 -1.033077  1.932870 -0.768021 -0.113925\n",
      "8 -1.029836 -0.400729  1.823487  1.332935\n",
      "9  0.006161 -0.090565 -0.458663  0.004510\n",
      "\n",
      "          0         1         3\n",
      "0  0.558237  0.896062 -1.406544\n",
      "1 -0.103397  0.534815  1.250368\n",
      "2 -0.468078  1.726980  1.141534\n",
      "3  0.012279 -1.568485 -0.509157\n",
      "4  1.247921  0.339777  0.545195\n",
      "5  0.475651 -0.607365 -0.100191\n",
      "6 -1.033077  1.932870 -0.113925\n",
      "7 -1.292133 -1.629493 -1.647125\n",
      "8 -1.029836 -0.400729  1.332935\n",
      "9  0.006161 -0.090565  0.004510\n",
      "\n"
     ]
    }
   ],
   "source": [
    "#Concat, Join, Append.\n",
    "\n",
    "# concatenate rows together\n",
    "df = pd.DataFrame(np.random.randn(10, 4))\n",
    "print(df)\n",
    "print()\n",
    "\n",
    "pieces = [df[:2], df[5:7], df[8:]]\n",
    "print(pd.concat(pieces))\n",
    "print()\n",
    "\n",
    "# concatenate columns together\n",
    "pieces = [df.iloc[:,0:2], df.iloc[:,3]]\n",
    "print(pd.concat(pieces,axis=1))\n",
    "print()\n"
   ]
  },
  {
   "cell_type": "code",
   "execution_count": 64,
   "metadata": {},
   "outputs": [
    {
     "name": "stdout",
     "output_type": "stream",
     "text": [
      "  key  xval\n",
      "0   B     2\n",
      "1   A     1\n",
      "\n",
      "  key  yval\n",
      "0   A     4\n",
      "1   B     5\n",
      "2   C     6\n"
     ]
    }
   ],
   "source": [
    "x = pd.DataFrame({'key': ['B', 'A'], 'xval': [2, 1]})\n",
    "y = pd.DataFrame({'key': ['A', 'B','C'], 'yval': [4, 5,6]})\n",
    "print(x)\n",
    "print()\n",
    "print(y)"
   ]
  },
  {
   "cell_type": "code",
   "execution_count": 65,
   "metadata": {},
   "outputs": [
    {
     "name": "stdout",
     "output_type": "stream",
     "text": [
      "  key  yval  xval\n",
      "0   A     4   1.0\n",
      "1   B     5   2.0\n",
      "2   C     6   NaN\n",
      "\n",
      "  key  xval  yval\n",
      "0   B     2     5\n",
      "1   A     1     4\n",
      "\n",
      "  key  xval  yval\n",
      "0   A   1.0     4\n",
      "1   B   2.0     5\n",
      "2   C   NaN     6\n"
     ]
    }
   ],
   "source": [
    "print(y.merge(x,left_on=\"key\",right_on=\"key\",how=\"left\"))\n",
    "print()\n",
    "print(x.merge(y,left_on=\"key\",right_on=\"key\",how=\"left\"))\n",
    "print()\n",
    "print(x.merge(y,left_on=\"key\",right_on=\"key\",how=\"right\"))"
   ]
  },
  {
   "cell_type": "code",
   "execution_count": 66,
   "metadata": {},
   "outputs": [
    {
     "name": "stdout",
     "output_type": "stream",
     "text": [
      "  key  yval  xval\n",
      "0   A   4.0   NaN\n",
      "1   B   5.0   NaN\n",
      "2   C   6.0   NaN\n",
      "3   B   NaN   2.0\n",
      "4   A   NaN   1.0\n",
      "\n",
      "  key  yval  xval\n",
      "0   A   4.0   NaN\n",
      "1   B   5.0   NaN\n",
      "2   C   6.0   NaN\n",
      "3   B   NaN   2.0\n",
      "4   A   NaN   1.0\n"
     ]
    },
    {
     "name": "stderr",
     "output_type": "stream",
     "text": [
      "/var/folders/9f/7xdrpjw15kn4wccwzb5xhr0m0000gn/T/ipykernel_33503/3046326276.py:2: FutureWarning: The frame.append method is deprecated and will be removed from pandas in a future version. Use pandas.concat instead.\n",
      "  print(y.append(x, ignore_index=True)) # deprecated\n"
     ]
    }
   ],
   "source": [
    "# Append\n",
    "print(y.append(x, ignore_index=True)) # deprecated\n",
    "print()\n",
    "print(pd.concat([y,x],ignore_index=True))"
   ]
  },
  {
   "cell_type": "code",
   "execution_count": 67,
   "metadata": {},
   "outputs": [
    {
     "data": {
      "text/html": [
       "<div>\n",
       "<style scoped>\n",
       "    .dataframe tbody tr th:only-of-type {\n",
       "        vertical-align: middle;\n",
       "    }\n",
       "\n",
       "    .dataframe tbody tr th {\n",
       "        vertical-align: top;\n",
       "    }\n",
       "\n",
       "    .dataframe thead th {\n",
       "        text-align: right;\n",
       "    }\n",
       "</style>\n",
       "<table border=\"1\" class=\"dataframe\">\n",
       "  <thead>\n",
       "    <tr style=\"text-align: right;\">\n",
       "      <th></th>\n",
       "      <th>A</th>\n",
       "      <th>B</th>\n",
       "      <th>C</th>\n",
       "      <th>D</th>\n",
       "    </tr>\n",
       "  </thead>\n",
       "  <tbody>\n",
       "    <tr>\n",
       "      <th>0</th>\n",
       "      <td>foo</td>\n",
       "      <td>one</td>\n",
       "      <td>-0.028450</td>\n",
       "      <td>-1.483947</td>\n",
       "    </tr>\n",
       "    <tr>\n",
       "      <th>1</th>\n",
       "      <td>bar</td>\n",
       "      <td>one</td>\n",
       "      <td>0.761173</td>\n",
       "      <td>0.102990</td>\n",
       "    </tr>\n",
       "    <tr>\n",
       "      <th>2</th>\n",
       "      <td>foo</td>\n",
       "      <td>two</td>\n",
       "      <td>0.323140</td>\n",
       "      <td>-0.861815</td>\n",
       "    </tr>\n",
       "    <tr>\n",
       "      <th>3</th>\n",
       "      <td>bar</td>\n",
       "      <td>three</td>\n",
       "      <td>-1.438256</td>\n",
       "      <td>-0.867381</td>\n",
       "    </tr>\n",
       "    <tr>\n",
       "      <th>4</th>\n",
       "      <td>foo</td>\n",
       "      <td>two</td>\n",
       "      <td>1.682023</td>\n",
       "      <td>-0.028799</td>\n",
       "    </tr>\n",
       "    <tr>\n",
       "      <th>5</th>\n",
       "      <td>bar</td>\n",
       "      <td>two</td>\n",
       "      <td>1.629158</td>\n",
       "      <td>0.525564</td>\n",
       "    </tr>\n",
       "    <tr>\n",
       "      <th>6</th>\n",
       "      <td>foo</td>\n",
       "      <td>one</td>\n",
       "      <td>0.223817</td>\n",
       "      <td>-1.041343</td>\n",
       "    </tr>\n",
       "    <tr>\n",
       "      <th>7</th>\n",
       "      <td>foo</td>\n",
       "      <td>three</td>\n",
       "      <td>-0.186711</td>\n",
       "      <td>0.550902</td>\n",
       "    </tr>\n",
       "  </tbody>\n",
       "</table>\n",
       "</div>"
      ],
      "text/plain": [
       "     A      B         C         D\n",
       "0  foo    one -0.028450 -1.483947\n",
       "1  bar    one  0.761173  0.102990\n",
       "2  foo    two  0.323140 -0.861815\n",
       "3  bar  three -1.438256 -0.867381\n",
       "4  foo    two  1.682023 -0.028799\n",
       "5  bar    two  1.629158  0.525564\n",
       "6  foo    one  0.223817 -1.041343\n",
       "7  foo  three -0.186711  0.550902"
      ]
     },
     "execution_count": 67,
     "metadata": {},
     "output_type": "execute_result"
    }
   ],
   "source": [
    "# Grouping\n",
    "df = pd.DataFrame({'A' : ['foo', 'bar', 'foo', 'bar','foo', 'bar', 'foo', 'foo'],'B' : ['one', 'one', 'two', 'three','two', 'two', 'one', 'three'],\n",
    "'C' : np.random.randn(8),'D' : np.random.randn(8)})\n",
    "df"
   ]
  },
  {
   "cell_type": "code",
   "execution_count": 68,
   "metadata": {},
   "outputs": [
    {
     "data": {
      "text/plain": [
       "A\n",
       "bar   -0.238826\n",
       "foo   -2.865002\n",
       "dtype: float64"
      ]
     },
     "execution_count": 68,
     "metadata": {},
     "output_type": "execute_result"
    }
   ],
   "source": [
    "df.groupby(\"A\").apply(lambda x: x.loc[:,\"D\"].sum())"
   ]
  },
  {
   "cell_type": "code",
   "execution_count": 69,
   "metadata": {},
   "outputs": [
    {
     "data": {
      "text/html": [
       "<div>\n",
       "<style scoped>\n",
       "    .dataframe tbody tr th:only-of-type {\n",
       "        vertical-align: middle;\n",
       "    }\n",
       "\n",
       "    .dataframe tbody tr th {\n",
       "        vertical-align: top;\n",
       "    }\n",
       "\n",
       "    .dataframe thead th {\n",
       "        text-align: right;\n",
       "    }\n",
       "</style>\n",
       "<table border=\"1\" class=\"dataframe\">\n",
       "  <thead>\n",
       "    <tr style=\"text-align: right;\">\n",
       "      <th></th>\n",
       "      <th></th>\n",
       "      <th>C</th>\n",
       "      <th>D</th>\n",
       "    </tr>\n",
       "    <tr>\n",
       "      <th>A</th>\n",
       "      <th>B</th>\n",
       "      <th></th>\n",
       "      <th></th>\n",
       "    </tr>\n",
       "  </thead>\n",
       "  <tbody>\n",
       "    <tr>\n",
       "      <th rowspan=\"3\" valign=\"top\">bar</th>\n",
       "      <th>one</th>\n",
       "      <td>0.761173</td>\n",
       "      <td>0.102990</td>\n",
       "    </tr>\n",
       "    <tr>\n",
       "      <th>three</th>\n",
       "      <td>-1.438256</td>\n",
       "      <td>-0.867381</td>\n",
       "    </tr>\n",
       "    <tr>\n",
       "      <th>two</th>\n",
       "      <td>1.629158</td>\n",
       "      <td>0.525564</td>\n",
       "    </tr>\n",
       "    <tr>\n",
       "      <th rowspan=\"3\" valign=\"top\">foo</th>\n",
       "      <th>one</th>\n",
       "      <td>0.195367</td>\n",
       "      <td>-2.525291</td>\n",
       "    </tr>\n",
       "    <tr>\n",
       "      <th>three</th>\n",
       "      <td>-0.186711</td>\n",
       "      <td>0.550902</td>\n",
       "    </tr>\n",
       "    <tr>\n",
       "      <th>two</th>\n",
       "      <td>2.005163</td>\n",
       "      <td>-0.890614</td>\n",
       "    </tr>\n",
       "  </tbody>\n",
       "</table>\n",
       "</div>"
      ],
      "text/plain": [
       "                  C         D\n",
       "A   B                        \n",
       "bar one    0.761173  0.102990\n",
       "    three -1.438256 -0.867381\n",
       "    two    1.629158  0.525564\n",
       "foo one    0.195367 -2.525291\n",
       "    three -0.186711  0.550902\n",
       "    two    2.005163 -0.890614"
      ]
     },
     "execution_count": 69,
     "metadata": {},
     "output_type": "execute_result"
    }
   ],
   "source": [
    "tmp=df.groupby(['A','B']).sum()\n",
    "tmp"
   ]
  },
  {
   "cell_type": "code",
   "execution_count": 70,
   "metadata": {},
   "outputs": [
    {
     "name": "stdout",
     "output_type": "stream",
     "text": [
      "                  C         D\n",
      "A   B                        \n",
      "bar one    0.761173  0.102990\n",
      "    three -1.438256 -0.867381\n",
      "    two    1.629158  0.525564\n",
      "foo one    0.195367 -2.525291\n",
      "    three -0.186711  0.550902\n",
      "    two    2.005163 -0.890614\n",
      "\n",
      "A    B       \n",
      "bar  one    C    0.761173\n",
      "            D    0.102990\n",
      "     three  C   -1.438256\n",
      "            D   -0.867381\n",
      "     two    C    1.629158\n",
      "            D    0.525564\n",
      "foo  one    C    0.195367\n",
      "            D   -2.525291\n",
      "     three  C   -0.186711\n",
      "            D    0.550902\n",
      "     two    C    2.005163\n",
      "            D   -0.890614\n",
      "dtype: float64\n",
      "\n",
      "                  C         D\n",
      "A   B                        \n",
      "bar one    0.761173  0.102990\n",
      "    three -1.438256 -0.867381\n",
      "    two    1.629158  0.525564\n",
      "foo one    0.195367 -2.525291\n",
      "    three -0.186711  0.550902\n",
      "    two    2.005163 -0.890614\n"
     ]
    }
   ],
   "source": [
    "# Stack and unstack\n",
    "print(tmp)\n",
    "print()\n",
    "\n",
    "stacked=tmp.stack(level=-1) # -1, i.e., the last column, is the default level\n",
    "print(stacked)\n",
    "print()\n",
    "\n",
    "unstacked = stacked.unstack(level=-1) # -1, i.e., the last column, is the default level\n",
    "print(unstacked)"
   ]
  },
  {
   "cell_type": "markdown",
   "metadata": {},
   "source": [
    "# Sklearn\n",
    "\n",
    "1.Preprocessing.\n",
    "\n",
    "2.Supervised Learning.\n",
    "\n",
    "3.Model selection.\n"
   ]
  },
  {
   "cell_type": "code",
   "execution_count": 71,
   "metadata": {},
   "outputs": [
    {
     "data": {
      "text/plain": [
       "'1.0.2'"
      ]
     },
     "execution_count": 71,
     "metadata": {},
     "output_type": "execute_result"
    }
   ],
   "source": [
    "# Check your version and make sure >0.18\n",
    "import sklearn\n",
    "sklearn.__version__"
   ]
  },
  {
   "cell_type": "markdown",
   "metadata": {
    "collapsed": true
   },
   "source": [
    "### 1. Preprocessing."
   ]
  },
  {
   "cell_type": "markdown",
   "metadata": {},
   "source": [
    "#### Scale,  Normalization, Binarization, and so on."
   ]
  },
  {
   "cell_type": "code",
   "execution_count": 72,
   "metadata": {},
   "outputs": [],
   "source": [
    "from sklearn import preprocessing"
   ]
  },
  {
   "cell_type": "code",
   "execution_count": 73,
   "metadata": {},
   "outputs": [
    {
     "data": {
      "text/plain": [
       "array([[ 1., -1.,  2.],\n",
       "       [ 2.,  0.,  0.],\n",
       "       [ 0.,  1., -1.]])"
      ]
     },
     "execution_count": 73,
     "metadata": {},
     "output_type": "execute_result"
    }
   ],
   "source": [
    "import numpy as np\n",
    "X = np.array([[ 1., -1.,  2.],\n",
    "               [ 2.,  0.,  0.],\n",
    "             [ 0.,  1., -1.]])\n",
    "X"
   ]
  },
  {
   "cell_type": "code",
   "execution_count": 74,
   "metadata": {},
   "outputs": [
    {
     "data": {
      "text/plain": [
       "array([[ 0.        , -1.22474487,  1.33630621],\n",
       "       [ 1.22474487,  0.        , -0.26726124],\n",
       "       [-1.22474487,  1.22474487, -1.06904497]])"
      ]
     },
     "execution_count": 74,
     "metadata": {},
     "output_type": "execute_result"
    }
   ],
   "source": [
    "# make each column have mean = 0 and std dev = 1\n",
    "X_scaled = preprocessing.scale(X)\n",
    "X_scaled"
   ]
  },
  {
   "cell_type": "code",
   "execution_count": 75,
   "metadata": {},
   "outputs": [
    {
     "data": {
      "text/plain": [
       "array([0., 0., 0.])"
      ]
     },
     "execution_count": 75,
     "metadata": {},
     "output_type": "execute_result"
    }
   ],
   "source": [
    "X_scaled.mean(axis=0)"
   ]
  },
  {
   "cell_type": "code",
   "execution_count": 76,
   "metadata": {},
   "outputs": [
    {
     "data": {
      "text/plain": [
       "array([1., 1., 1.])"
      ]
     },
     "execution_count": 76,
     "metadata": {},
     "output_type": "execute_result"
    }
   ],
   "source": [
    "X_scaled.std(axis=0)"
   ]
  },
  {
   "cell_type": "code",
   "execution_count": 77,
   "metadata": {},
   "outputs": [
    {
     "data": {
      "text/plain": [
       "array([[ 0.        , -1.22474487,  1.33630621],\n",
       "       [ 1.22474487,  0.        , -0.26726124],\n",
       "       [-1.22474487,  1.22474487, -1.06904497]])"
      ]
     },
     "execution_count": 77,
     "metadata": {},
     "output_type": "execute_result"
    }
   ],
   "source": [
    "# Equivalently, we could use:\n",
    "(X-X.mean(axis=0))/X.std(axis=0)"
   ]
  },
  {
   "cell_type": "markdown",
   "metadata": {},
   "source": [
    "#### Normalize \n",
    "\n",
    "Normalization is the process of scaling individual samples to have unit norm. This process can be useful if you plan to use a quadratic form such as the dot-product or any other kernel to quantify the similarity of any pair of samples."
   ]
  },
  {
   "cell_type": "code",
   "execution_count": 78,
   "metadata": {},
   "outputs": [
    {
     "name": "stdout",
     "output_type": "stream",
     "text": [
      "[[ 0.40824829 -0.40824829  0.81649658]\n",
      " [ 1.          0.          0.        ]\n",
      " [ 0.          0.70710678 -0.70710678]]\n",
      "\n",
      "[[ 0.40824829 -0.40824829  0.81649658]\n",
      " [ 1.          0.          0.        ]\n",
      " [ 0.          0.70710678 -0.70710678]]\n"
     ]
    }
   ],
   "source": [
    "print(preprocessing.normalize(X))\n",
    "print()\n",
    "\n",
    "# alternatively, we could manually compute:\n",
    "print(X/np.sqrt((X*X).sum(axis=1)).reshape(-1,1))"
   ]
  },
  {
   "cell_type": "markdown",
   "metadata": {},
   "source": [
    "Sklearn has a ton of methods implemented, many of which we will see later in the course!\n",
    "\n",
    "### Supervised Learning \n",
    "\n",
    "(Regression/Classification)\n",
    "\n",
    "Linear Models (Ordinary Least Squares, Logistic Regression, Lasso and Ridge...)\n",
    "\n",
    "Kernel regression\n",
    "\n",
    "SVM\n",
    "\n",
    "Gaussian Processes\n",
    "\n",
    "Decision Trees and Random Forests (next class)\n",
    "\n",
    "Naive Bayes\n",
    "\n",
    "Supervised Neural Network models (incl. Deep Learning)\n",
    "\n",
    "### Unsupervised Learning\n",
    "\n",
    "Clustering.\n",
    "\n",
    "Dimension Reduction.\n",
    "\n",
    "Representation in Neural Networks such as RBM"
   ]
  },
  {
   "cell_type": "markdown",
   "metadata": {
    "collapsed": true
   },
   "source": [
    "### Logistic Regression"
   ]
  },
  {
   "cell_type": "code",
   "execution_count": 79,
   "metadata": {},
   "outputs": [],
   "source": [
    "import numpy as np\n",
    "import matplotlib.pyplot as plt\n",
    "from sklearn import linear_model, datasets\n",
    "\n",
    "# import some data to play with\n",
    "iris = datasets.load_iris()\n",
    "X = iris.data[:, :2]  # we only take the first two features.\n",
    "Y = iris.target"
   ]
  },
  {
   "cell_type": "code",
   "execution_count": 80,
   "metadata": {},
   "outputs": [
    {
     "data": {
      "image/png": "[encoded data removed]",
      "text/plain": [
       "<Figure size 432x288 with 1 Axes>"
      ]
     },
     "metadata": {
      "needs_background": "light"
     },
     "output_type": "display_data"
    }
   ],
   "source": [
    "# Plot also the training points\n",
    "plt.scatter(X[:, 0], X[:, 1], c=Y, cmap=plt.cm.Spectral)\n",
    "plt.xlabel('Sepal length')\n",
    "plt.ylabel('Sepal width')\n",
    "plt.show()"
   ]
  },
  {
   "cell_type": "code",
   "execution_count": 81,
   "metadata": {},
   "outputs": [
    {
     "data": {
      "image/png": "[encoded data removed]",
      "text/plain": [
       "<Figure size 432x288 with 1 Axes>"
      ]
     },
     "metadata": {},
     "output_type": "display_data"
    }
   ],
   "source": [
    "logreg = linear_model.LogisticRegression()\n",
    "\n",
    "# we create an instance of logistic regression classifier and fit the data.\n",
    "logreg.fit(X, Y)\n",
    "\n",
    "# now the color represents the predicted class\n",
    "plt.scatter(X[:, 0], X[:, 1], c=logreg.predict(X), cmap=plt.cm.Spectral)\n",
    "plt.xlabel('Sepal length')\n",
    "plt.ylabel('Sepal width')\n",
    "\n",
    "plt.xticks(())\n",
    "plt.yticks(())\n",
    "\n",
    "plt.show()\n"
   ]
  },
  {
   "cell_type": "markdown",
   "metadata": {},
   "source": [
    "### Tips: How to use packages from sklearn.\n",
    "\n",
    "Step one: What is the problem we want to solve and what is the model we want to fit. \n",
    "\n",
    "Step two: What are the hyper-parameters related to model structure.\n",
    "\n",
    "Step three: What are the inputs dataframe and what are the parameters we want to tune.\n",
    "\n",
    "Step four: What are hyper-parameters for training process. (learning rate, iteration max...)\n",
    "\n",
    "step five: What are the outputs and tuned parameters."
   ]
  }
 ],
 "metadata": {
  "anaconda-cloud": {},
  "kernelspec": {
   "display_name": "Python 3 (ipykernel)",
   "language": "python",
   "name": "python3"
  },
  "language_info": {
   "codemirror_mode": {
    "name": "ipython",
    "version": 3
   },
   "file_extension": ".py",
   "mimetype": "text/x-python",
   "name": "python",
   "nbconvert_exporter": "python",
   "pygments_lexer": "ipython3",
   "version": "3.9.12"
  }
 },
 "nbformat": 4,
 "nbformat_minor": 2
}
